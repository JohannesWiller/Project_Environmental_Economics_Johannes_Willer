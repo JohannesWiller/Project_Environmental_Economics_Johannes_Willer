{
 "cells": [
  {
   "cell_type": "markdown",
   "metadata": {},
   "source": [
    "## Running the Models\n",
    "\n",
    "My structured as follows:\n",
    "\n",
    "1. Import the packages\n",
    "2. Run the default DICE model\n",
    "3. Run the groDICE model\n",
    "4. Run the enDICE model\n",
    "5. Run the engroDICE model"
   ]
  },
  {
   "cell_type": "markdown",
   "metadata": {},
   "source": [
    "## 1. Import the packages "
   ]
  },
  {
   "cell_type": "code",
   "execution_count": 2,
   "metadata": {},
   "outputs": [
    {
     "name": "stderr",
     "output_type": "stream",
     "text": [
      "\u001b[32m\u001b[1m   Resolving\u001b[22m\u001b[39m package versions...\n",
      "\u001b[32m\u001b[1m  No Changes\u001b[22m\u001b[39m to `~/Desktop/Uni/Project_Environmental_Economics_Johannes_Willer/Project.toml`\n",
      "\u001b[32m\u001b[1m  No Changes\u001b[22m\u001b[39m to `~/Desktop/Uni/Project_Environmental_Economics_Johannes_Willer/Manifest.toml`\n",
      "\u001b[32m\u001b[1m   Resolving\u001b[22m\u001b[39m package versions...\n",
      "\u001b[32m\u001b[1m  No Changes\u001b[22m\u001b[39m to `~/Desktop/Uni/Project_Environmental_Economics_Johannes_Willer/Project.toml`\n",
      "\u001b[32m\u001b[1m  No Changes\u001b[22m\u001b[39m to `~/Desktop/Uni/Project_Environmental_Economics_Johannes_Willer/Manifest.toml`\n",
      "\u001b[32m\u001b[1m   Resolving\u001b[22m\u001b[39m package versions...\n",
      "\u001b[32m\u001b[1m    Updating\u001b[22m\u001b[39m `~/Desktop/Uni/Project_Environmental_Economics_Johannes_Willer/Project.toml`\n",
      "  \u001b[90m[31c24e10] \u001b[39m\u001b[92m+ Distributions v0.25.109\u001b[39m\n",
      "\u001b[32m\u001b[1m  No Changes\u001b[22m\u001b[39m to `~/Desktop/Uni/Project_Environmental_Economics_Johannes_Willer/Manifest.toml`\n"
     ]
    },
    {
     "name": "stdout",
     "output_type": "stream",
     "text": [
      "\u001b[32m\u001b[1mStatus\u001b[22m\u001b[39m `~/Desktop/Uni/Project_Environmental_Economics_Johannes_Willer/Project.toml`\n",
      "  \u001b[90m[31c24e10] \u001b[39mDistributions v0.25.109\n",
      "  \u001b[90m[e4e893b0] \u001b[39mMimi v1.5.3\n",
      "  \u001b[90m[fdbf4ff8] \u001b[39mXLSX v0.10.1\n"
     ]
    },
    {
     "name": "stderr",
     "output_type": "stream",
     "text": [
      "\u001b[32m\u001b[1m  Activating\u001b[22m\u001b[39m project at `~/Desktop/Uni/Project_Environmental_Economics_Johannes_Willer`\n"
     ]
    }
   ],
   "source": [
    "using Pkg\n",
    "\n",
    "#add all relevant packages\n",
    "Pkg.add(\"Mimi\")\n",
    "Pkg.add(\"XLSX\")\n",
    "Pkg.add(\"Distributions\")\n",
    "\n",
    "Pkg.activate(\".\")   # activate the current environment\n",
    "Pkg.status()        # check which packages are installed\n",
    "Pkg.instantiate()   # compile all the packages"
   ]
  },
  {
   "cell_type": "markdown",
   "metadata": {},
   "source": [
    "## 2. Run the default DICE model"
   ]
  },
  {
   "cell_type": "code",
   "execution_count": 1,
   "metadata": {},
   "outputs": [
    {
     "name": "stderr",
     "output_type": "stream",
     "text": [
      "2024-06-15 19:31:12.842 Julia[98141:4532817] WARNING: Secure coding is not enabled for restorable state! Enable secure coding by implementing NSApplicationDelegate.applicationSupportsSecureRestorableState: and returning YES.\n"
     ]
    },
    {
     "data": {
      "text/plain": [
       "Electron.Window(Application(Base.PipeEndpoint(RawFD(22) paused, 0 bytes waiting), Process(setenv(`\u001b[4m/Users/johannes/.julia/artifacts/28d75c9551b709f4f8172bf33e631b433c6c68d6/Julia.app/Contents/MacOS/Julia\u001b[24m \u001b[4m/Users/johannes/.julia/packages/Electron/LXyZ0/src/main.js\u001b[24m \u001b[4m/var/folders/gk/pn80n41j3f7742jgklqhl9x40000gn/T/jlel-0f96f5102b3d11ef0d1033b19a49473f\u001b[24m \u001b[4m/var/folders/gk/pn80n41j3f7742jgklqhl9x40000gn/T/jlel-sn-0f96fd082b3d11ef27678984f753fac0\u001b[24m \u001b[4mtk22Wj5nDDvxrWIJ54/ME5jljnC6N1DFyhP06awvwHNHkSAU1k9STuYoRsVBv+lEKvcKsIMBhElfVuesneh4O/6YG7hy7YmC4v5ffk0hICAk84ecLKdBvuGqoVV0Kr7Sl4xV/W3rdxr9sy5Lw4tdOTs5oQi+VQ4Xxrg0c3Tsf9I=\u001b[24m`,[\"XPC_FLAGS=0x0\", \"VSCODE_L10N_BUNDLE_LOCATION=\", \"COMMAND_MODE=unix2003\", \"CONDA_PROMPT_MODIFIER=(base) \", \"PATH=/Library/Frameworks/Python.framework/Versions/3.12/bin:/usr/local/bin:/System/Cryptexes/App/usr/bin:/usr/bin:/bin:/usr/sbin:/sbin:/var/run/com.apple.security.cryptexd/codex.system/bootstrap/usr/local/bin:/var/run/com.apple.security.cryptexd/codex.system/bootstrap/usr/bin:/var/run/com.apple.security.cryptexd/codex.system/bootstrap/usr/appleinternal/bin:/Library/Apple/usr/bin:/opt/anaconda3/bin:/opt/anaconda3/condabin:/Library/Frameworks/Python.framework/Versions/3.12/bin\", \"PWD=/\", \"VSCODE_CODE_CACHE_PATH=/Users/johannes/Library/Application Support/Code/CachedData/dc96b837cf6bb4af9cd736aa3af08cf8279f7685\", \"VSCODE_HANDLES_UNCAUGHT_ERRORS=true\", \"XPC_SERVICE_NAME=application.com.microsoft.VSCode.121548747.121548755\", \"VSCODE_NLS_CONFIG={\\\"locale\\\":\\\"en\\\",\\\"osLocale\\\":\\\"de-de\\\",\\\"availableLanguages\\\":{},\\\"_languagePackSupport\\\":true}\"  …  \"CONDA_DEFAULT_ENV=base\", \"OPENBLAS_DEFAULT_NUM_THREADS=1\", \"USER=johannes\", \"CONDA_SHLVL=1\", \"VSCODE_CRASH_REPORTER_PROCESS_TYPE=extensionHost\", \"CONDA_EXE=/opt/anaconda3/bin/conda\", \"HOME=/Users/johannes\", \"JULIA_NUM_THREADS=\", \"OPENBLAS_MAIN_FREE=1\", \"VSCODE_CWD=/\"]), ProcessRunning), [1 window]), 1, true, Channel{Any}(128))"
      ]
     },
     "metadata": {},
     "output_type": "display_data"
    }
   ],
   "source": [
    "using Mimi\n",
    "model_path = joinpath(@__DIR__, \"Models\", \"DICE2016R2\", \"src\", \"MimiDICE2016R2.jl\") #define the path to my model\n",
    "include(model_path)                                                                 #include my model as a package\n",
    "\n",
    "m_DICE = MimiDICE2016R2.get_model()                                                 #create the model   \n",
    "\n",
    "run(m_DICE)\n",
    "explore(m_DICE)"
   ]
  },
  {
   "cell_type": "markdown",
   "metadata": {},
   "source": [
    "## 3. Run the groDICE model"
   ]
  },
  {
   "cell_type": "code",
   "execution_count": 9,
   "metadata": {},
   "outputs": [
    {
     "name": "stderr",
     "output_type": "stream",
     "text": [
      "WARNING: replacing module groDICE.\n"
     ]
    },
    {
     "data": {
      "text/plain": [
       "Electron.Window(Application(Base.PipeEndpoint(RawFD(22) paused, 0 bytes waiting), Process(setenv(`\u001b[4m/Users/johannes/.julia/artifacts/28d75c9551b709f4f8172bf33e631b433c6c68d6/Julia.app/Contents/MacOS/Julia\u001b[24m \u001b[4m/Users/johannes/.julia/packages/Electron/LXyZ0/src/main.js\u001b[24m \u001b[4m/var/folders/gk/pn80n41j3f7742jgklqhl9x40000gn/T/jlel-0f96f5102b3d11ef0d1033b19a49473f\u001b[24m \u001b[4m/var/folders/gk/pn80n41j3f7742jgklqhl9x40000gn/T/jlel-sn-0f96fd082b3d11ef27678984f753fac0\u001b[24m \u001b[4mtk22Wj5nDDvxrWIJ54/ME5jljnC6N1DFyhP06awvwHNHkSAU1k9STuYoRsVBv+lEKvcKsIMBhElfVuesneh4O/6YG7hy7YmC4v5ffk0hICAk84ecLKdBvuGqoVV0Kr7Sl4xV/W3rdxr9sy5Lw4tdOTs5oQi+VQ4Xxrg0c3Tsf9I=\u001b[24m`,[\"XPC_FLAGS=0x0\", \"VSCODE_L10N_BUNDLE_LOCATION=\", \"COMMAND_MODE=unix2003\", \"CONDA_PROMPT_MODIFIER=(base) \", \"PATH=/Library/Frameworks/Python.framework/Versions/3.12/bin:/usr/local/bin:/System/Cryptexes/App/usr/bin:/usr/bin:/bin:/usr/sbin:/sbin:/var/run/com.apple.security.cryptexd/codex.system/bootstrap/usr/local/bin:/var/run/com.apple.security.cryptexd/codex.system/bootstrap/usr/bin:/var/run/com.apple.security.cryptexd/codex.system/bootstrap/usr/appleinternal/bin:/Library/Apple/usr/bin:/opt/anaconda3/bin:/opt/anaconda3/condabin:/Library/Frameworks/Python.framework/Versions/3.12/bin\", \"PWD=/\", \"VSCODE_CODE_CACHE_PATH=/Users/johannes/Library/Application Support/Code/CachedData/dc96b837cf6bb4af9cd736aa3af08cf8279f7685\", \"VSCODE_HANDLES_UNCAUGHT_ERRORS=true\", \"XPC_SERVICE_NAME=application.com.microsoft.VSCode.121548747.121548755\", \"VSCODE_NLS_CONFIG={\\\"locale\\\":\\\"en\\\",\\\"osLocale\\\":\\\"de-de\\\",\\\"availableLanguages\\\":{},\\\"_languagePackSupport\\\":true}\"  …  \"CONDA_DEFAULT_ENV=base\", \"OPENBLAS_DEFAULT_NUM_THREADS=1\", \"USER=johannes\", \"CONDA_SHLVL=1\", \"VSCODE_CRASH_REPORTER_PROCESS_TYPE=extensionHost\", \"CONDA_EXE=/opt/anaconda3/bin/conda\", \"HOME=/Users/johannes\", \"JULIA_NUM_THREADS=\", \"OPENBLAS_MAIN_FREE=1\", \"VSCODE_CWD=/\"]), ProcessRunning), [1 window]), 3, true, Channel{Any}(128))"
      ]
     },
     "metadata": {},
     "output_type": "display_data"
    }
   ],
   "source": [
    "using Mimi\n",
    "model_path = joinpath(@__DIR__, \"Models\", \"groDICE\", \"src\", \"groDICE.jl\") #define the path to my model\n",
    "include(model_path)                                                       #include my model as a package\n",
    "\n",
    "m_groDICE = groDICE.get_model()                                    #create the model   \n",
    "\n",
    "run(m_groDICE)\n",
    "explore(m_groDICE)\n"
   ]
  },
  {
   "cell_type": "markdown",
   "metadata": {},
   "source": [
    "## 4. Run the enDICE model"
   ]
  },
  {
   "cell_type": "code",
   "execution_count": 12,
   "metadata": {},
   "outputs": [
    {
     "name": "stderr",
     "output_type": "stream",
     "text": [
      "WARNING: replacing module enDICE.\n"
     ]
    },
    {
     "data": {
      "text/plain": [
       "Electron.Window(Application(Base.PipeEndpoint(RawFD(22) paused, 0 bytes waiting), Process(setenv(`\u001b[4m/Users/johannes/.julia/artifacts/28d75c9551b709f4f8172bf33e631b433c6c68d6/Julia.app/Contents/MacOS/Julia\u001b[24m \u001b[4m/Users/johannes/.julia/packages/Electron/LXyZ0/src/main.js\u001b[24m \u001b[4m/var/folders/gk/pn80n41j3f7742jgklqhl9x40000gn/T/jlel-0f96f5102b3d11ef0d1033b19a49473f\u001b[24m \u001b[4m/var/folders/gk/pn80n41j3f7742jgklqhl9x40000gn/T/jlel-sn-0f96fd082b3d11ef27678984f753fac0\u001b[24m \u001b[4mtk22Wj5nDDvxrWIJ54/ME5jljnC6N1DFyhP06awvwHNHkSAU1k9STuYoRsVBv+lEKvcKsIMBhElfVuesneh4O/6YG7hy7YmC4v5ffk0hICAk84ecLKdBvuGqoVV0Kr7Sl4xV/W3rdxr9sy5Lw4tdOTs5oQi+VQ4Xxrg0c3Tsf9I=\u001b[24m`,[\"XPC_FLAGS=0x0\", \"VSCODE_L10N_BUNDLE_LOCATION=\", \"COMMAND_MODE=unix2003\", \"CONDA_PROMPT_MODIFIER=(base) \", \"PATH=/Library/Frameworks/Python.framework/Versions/3.12/bin:/usr/local/bin:/System/Cryptexes/App/usr/bin:/usr/bin:/bin:/usr/sbin:/sbin:/var/run/com.apple.security.cryptexd/codex.system/bootstrap/usr/local/bin:/var/run/com.apple.security.cryptexd/codex.system/bootstrap/usr/bin:/var/run/com.apple.security.cryptexd/codex.system/bootstrap/usr/appleinternal/bin:/Library/Apple/usr/bin:/opt/anaconda3/bin:/opt/anaconda3/condabin:/Library/Frameworks/Python.framework/Versions/3.12/bin\", \"PWD=/\", \"VSCODE_CODE_CACHE_PATH=/Users/johannes/Library/Application Support/Code/CachedData/dc96b837cf6bb4af9cd736aa3af08cf8279f7685\", \"VSCODE_HANDLES_UNCAUGHT_ERRORS=true\", \"XPC_SERVICE_NAME=application.com.microsoft.VSCode.121548747.121548755\", \"VSCODE_NLS_CONFIG={\\\"locale\\\":\\\"en\\\",\\\"osLocale\\\":\\\"de-de\\\",\\\"availableLanguages\\\":{},\\\"_languagePackSupport\\\":true}\"  …  \"CONDA_DEFAULT_ENV=base\", \"OPENBLAS_DEFAULT_NUM_THREADS=1\", \"USER=johannes\", \"CONDA_SHLVL=1\", \"VSCODE_CRASH_REPORTER_PROCESS_TYPE=extensionHost\", \"CONDA_EXE=/opt/anaconda3/bin/conda\", \"HOME=/Users/johannes\", \"JULIA_NUM_THREADS=\", \"OPENBLAS_MAIN_FREE=1\", \"VSCODE_CWD=/\"]), ProcessRunning), [1 window]), 5, true, Channel{Any}(128))"
      ]
     },
     "metadata": {},
     "output_type": "display_data"
    }
   ],
   "source": [
    "using Mimi\n",
    "model_path = joinpath(@__DIR__, \"Models\", \"enDICE\", \"src\", \"enDICE.jl\")    #define the path to my model\n",
    "include(model_path)                                                         #include my model as a package\n",
    "\n",
    "m_enDICE = enDICE.get_model()                                               #create the model   \n",
    "\n",
    "run(m_enDICE)\n",
    "explore(m_enDICE)"
   ]
  },
  {
   "cell_type": "markdown",
   "metadata": {},
   "source": [
    "## 5. Run the engroDICE model"
   ]
  },
  {
   "cell_type": "code",
   "execution_count": 13,
   "metadata": {},
   "outputs": [
    {
     "data": {
      "text/plain": [
       "Electron.Window(Application(Base.PipeEndpoint(RawFD(22) paused, 0 bytes waiting), Process(setenv(`\u001b[4m/Users/johannes/.julia/artifacts/28d75c9551b709f4f8172bf33e631b433c6c68d6/Julia.app/Contents/MacOS/Julia\u001b[24m \u001b[4m/Users/johannes/.julia/packages/Electron/LXyZ0/src/main.js\u001b[24m \u001b[4m/var/folders/gk/pn80n41j3f7742jgklqhl9x40000gn/T/jlel-0f96f5102b3d11ef0d1033b19a49473f\u001b[24m \u001b[4m/var/folders/gk/pn80n41j3f7742jgklqhl9x40000gn/T/jlel-sn-0f96fd082b3d11ef27678984f753fac0\u001b[24m \u001b[4mtk22Wj5nDDvxrWIJ54/ME5jljnC6N1DFyhP06awvwHNHkSAU1k9STuYoRsVBv+lEKvcKsIMBhElfVuesneh4O/6YG7hy7YmC4v5ffk0hICAk84ecLKdBvuGqoVV0Kr7Sl4xV/W3rdxr9sy5Lw4tdOTs5oQi+VQ4Xxrg0c3Tsf9I=\u001b[24m`,[\"XPC_FLAGS=0x0\", \"VSCODE_L10N_BUNDLE_LOCATION=\", \"COMMAND_MODE=unix2003\", \"CONDA_PROMPT_MODIFIER=(base) \", \"PATH=/Library/Frameworks/Python.framework/Versions/3.12/bin:/usr/local/bin:/System/Cryptexes/App/usr/bin:/usr/bin:/bin:/usr/sbin:/sbin:/var/run/com.apple.security.cryptexd/codex.system/bootstrap/usr/local/bin:/var/run/com.apple.security.cryptexd/codex.system/bootstrap/usr/bin:/var/run/com.apple.security.cryptexd/codex.system/bootstrap/usr/appleinternal/bin:/Library/Apple/usr/bin:/opt/anaconda3/bin:/opt/anaconda3/condabin:/Library/Frameworks/Python.framework/Versions/3.12/bin\", \"PWD=/\", \"VSCODE_CODE_CACHE_PATH=/Users/johannes/Library/Application Support/Code/CachedData/dc96b837cf6bb4af9cd736aa3af08cf8279f7685\", \"VSCODE_HANDLES_UNCAUGHT_ERRORS=true\", \"XPC_SERVICE_NAME=application.com.microsoft.VSCode.121548747.121548755\", \"VSCODE_NLS_CONFIG={\\\"locale\\\":\\\"en\\\",\\\"osLocale\\\":\\\"de-de\\\",\\\"availableLanguages\\\":{},\\\"_languagePackSupport\\\":true}\"  …  \"CONDA_DEFAULT_ENV=base\", \"OPENBLAS_DEFAULT_NUM_THREADS=1\", \"USER=johannes\", \"CONDA_SHLVL=1\", \"VSCODE_CRASH_REPORTER_PROCESS_TYPE=extensionHost\", \"CONDA_EXE=/opt/anaconda3/bin/conda\", \"HOME=/Users/johannes\", \"JULIA_NUM_THREADS=\", \"OPENBLAS_MAIN_FREE=1\", \"VSCODE_CWD=/\"]), ProcessRunning), [1 window]), 6, true, Channel{Any}(128))"
      ]
     },
     "metadata": {},
     "output_type": "display_data"
    }
   ],
   "source": [
    "using Mimi\n",
    "model_path = joinpath(@__DIR__, \"Models\", \"engroDICE\", \"src\", \"engroDICE.jl\")  #define the path to my model\n",
    "include(model_path)                                                            #include my model as a package\n",
    "\n",
    "m_engroDICE = engroDICE.get_model()                                            #create the model   \n",
    "\n",
    "run(m_engroDICE)\n",
    "explore(m_engroDICE)"
   ]
  }
 ],
 "metadata": {
  "kernelspec": {
   "display_name": "Julia 1.10.2",
   "language": "julia",
   "name": "julia-1.10"
  },
  "language_info": {
   "file_extension": ".jl",
   "mimetype": "application/julia",
   "name": "julia",
   "version": "1.10.2"
  }
 },
 "nbformat": 4,
 "nbformat_minor": 2
}
